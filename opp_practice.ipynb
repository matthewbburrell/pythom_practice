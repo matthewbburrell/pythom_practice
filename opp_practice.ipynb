{
 "cells": [
  {
   "cell_type": "markdown",
   "metadata": {},
   "source": [
    "# Create a car class\n",
    "\n",
    "### Creat a car class with two instance attributes:\n",
    "\n",
    "    1. .color, which stores the name of the cars collor as a string\n",
    "    2. .mileage, which stores the number of miles on the car as an integer\n",
    "    \n",
    "The Instantiate two car objects--ablue carwith 20,000 miles and a read car with 30,000 miles--and print out their colors and mileage. Your output should look like this:\n",
    "\n",
    "The blue car has 20,000 miles.<br>\n",
    "The red car has 30,00 miles."
   ]
  },
  {
   "cell_type": "code",
   "execution_count": 9,
   "metadata": {},
   "outputs": [],
   "source": [
    "class Car():\n",
    "    def __init__(self, color, mileage):\n",
    "        self.color = color\n",
    "        self.mileage = mileage\n",
    "\n",
    "    def __str__(self):\n",
    "        return f'The {self.color} car has {self.mileage:,} miles'"
   ]
  },
  {
   "cell_type": "code",
   "execution_count": 10,
   "metadata": {},
   "outputs": [],
   "source": [
    "blue = Car('blue', 20_000)\n",
    "red = Car('red', 30_000)"
   ]
  },
  {
   "cell_type": "code",
   "execution_count": 11,
   "metadata": {},
   "outputs": [
    {
     "name": "stdout",
     "output_type": "stream",
     "text": [
      "The blue car has 20,000 miles\n",
      "The red car has 30,000 miles\n"
     ]
    }
   ],
   "source": [
    "print(blue)\n",
    "print(red)"
   ]
  },
  {
   "cell_type": "markdown",
   "metadata": {},
   "source": [
    "# Class Inheritance\n",
    "\n",
    "Create a GoldenRetriever class that inherits from the dog class. Give the sound argumnet of GoldenRetriever.speak() a default value of 'Bark'. Use the following code for your parent Dog class:\n",
    "      \n",
    "```python\n",
    "    class Dog:\n",
    "        species = \"Canis familiaris\"\n",
    "\n",
    "        def __init__(self, name, age):\n",
    "            self.name = name\n",
    "            self.age = age\n",
    "\n",
    "        def __str__(self):\n",
    "            return f\"{self.name} is {self.age} years old\"\n",
    "\n",
    "        def speak(self, sound):\n",
    "            return f\"{self.name} says {sound}\"\n",
    "```"
   ]
  },
  {
   "cell_type": "code",
   "execution_count": 15,
   "metadata": {},
   "outputs": [],
   "source": [
    "class Dog:\n",
    "    species = \"Canis familiaris\"\n",
    "\n",
    "    def __init__(self, name, age):\n",
    "        self.name = name\n",
    "        self.age = age\n",
    "\n",
    "    def __str__(self):\n",
    "        return f\"{self.name} is {self.age} years old\"\n",
    "\n",
    "    def speak(self, sound):\n",
    "        return f\"{self.name} says {sound}\"\n",
    "\n",
    "class GoldenRetriever(Dog):\n",
    "    def speak(self, souund = 'Bark'):\n",
    "        return f'{self.name} says {sound}'\n",
    "    # Could Also code like\n",
    "    #def speak(self, souund = 'Bark'):\n",
    "    #    return super().speak(sound)"
   ]
  },
  {
   "cell_type": "code",
   "execution_count": null,
   "metadata": {},
   "outputs": [],
   "source": []
  }
 ],
 "metadata": {
  "kernelspec": {
   "display_name": "Python 3",
   "language": "python",
   "name": "python3"
  },
  "language_info": {
   "codemirror_mode": {
    "name": "ipython",
    "version": 3
   },
   "file_extension": ".py",
   "mimetype": "text/x-python",
   "name": "python",
   "nbconvert_exporter": "python",
   "pygments_lexer": "ipython3",
   "version": "3.7.6"
  }
 },
 "nbformat": 4,
 "nbformat_minor": 4
}
